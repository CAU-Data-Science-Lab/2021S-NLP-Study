{
 "cells": [
  {
   "cell_type": "code",
   "execution_count": null,
   "source": [
    "import pandas as pd\r\n",
    "from tqdm.notebook import tqdm"
   ],
   "outputs": [],
   "metadata": {}
  },
  {
   "cell_type": "code",
   "execution_count": null,
   "source": [
    "pd.__version__"
   ],
   "outputs": [
    {
     "output_type": "error",
     "ename": "AttributeError",
     "evalue": "module 'pandas' has no attribute '__version__'",
     "traceback": [
      "\u001b[1;31m---------------------------------------------------------------------------\u001b[0m",
      "\u001b[1;31mAttributeError\u001b[0m                            Traceback (most recent call last)",
      "\u001b[1;32m<ipython-input-6-23ebc99c94e5>\u001b[0m in \u001b[0;36m<module>\u001b[1;34m\u001b[0m\n\u001b[1;32m----> 1\u001b[1;33m \u001b[0mpd\u001b[0m\u001b[1;33m.\u001b[0m\u001b[0m__version__\u001b[0m\u001b[1;33m\u001b[0m\u001b[1;33m\u001b[0m\u001b[0m\n\u001b[0m",
      "\u001b[1;31mAttributeError\u001b[0m: module 'pandas' has no attribute '__version__'"
     ]
    }
   ],
   "metadata": {}
  },
  {
   "cell_type": "code",
   "execution_count": 5,
   "source": [
    "train_data = pd.read_csv(\"./data/re_train_data.csv\")\r\n",
    "test_data = pd.read_csv(\"./data/re_test_data.csv\")"
   ],
   "outputs": [
    {
     "output_type": "error",
     "ename": "AttributeError",
     "evalue": "module 'pandas' has no attribute 'read_csv'",
     "traceback": [
      "\u001b[1;31m---------------------------------------------------------------------------\u001b[0m",
      "\u001b[1;31mAttributeError\u001b[0m                            Traceback (most recent call last)",
      "\u001b[1;32m<ipython-input-5-47775f9109dc>\u001b[0m in \u001b[0;36m<module>\u001b[1;34m\u001b[0m\n\u001b[1;32m----> 1\u001b[1;33m \u001b[0mtrain_data\u001b[0m \u001b[1;33m=\u001b[0m \u001b[0mpd\u001b[0m\u001b[1;33m.\u001b[0m\u001b[0mread_csv\u001b[0m\u001b[1;33m(\u001b[0m\u001b[1;34m\"./data/re_train_data.csv\"\u001b[0m\u001b[1;33m)\u001b[0m\u001b[1;33m\u001b[0m\u001b[1;33m\u001b[0m\u001b[0m\n\u001b[0m\u001b[0;32m      2\u001b[0m \u001b[0mtest_data\u001b[0m \u001b[1;33m=\u001b[0m \u001b[0mpd\u001b[0m\u001b[1;33m.\u001b[0m\u001b[0mread_csv\u001b[0m\u001b[1;33m(\u001b[0m\u001b[1;34m\"./data/re_test_data.csv\"\u001b[0m\u001b[1;33m)\u001b[0m\u001b[1;33m\u001b[0m\u001b[1;33m\u001b[0m\u001b[0m\n",
      "\u001b[1;31mAttributeError\u001b[0m: module 'pandas' has no attribute 'read_csv'"
     ]
    }
   ],
   "metadata": {}
  },
  {
   "cell_type": "code",
   "execution_count": 5,
   "source": [
    "import matplotlib.pyplot as plt\r\n",
    "plt.hist(train_data.label, bins=45)"
   ],
   "outputs": [
    {
     "output_type": "execute_result",
     "data": {
      "text/plain": [
       "(array([1.42571e+05, 1.26100e+03, 2.75000e+02, 1.43000e+02, 5.70000e+01,\n",
       "        1.69800e+03, 7.80000e+01, 1.13000e+02, 3.39000e+02, 1.06000e+02,\n",
       "        6.58000e+02, 2.00000e+02, 2.68000e+02, 5.75000e+02, 1.67200e+03,\n",
       "        1.65000e+02, 5.06000e+02, 1.54000e+02, 1.55000e+03, 4.93800e+03,\n",
       "        1.05900e+03, 4.96000e+02, 1.48000e+02, 1.84000e+03, 3.52000e+03,\n",
       "        8.10000e+02, 3.16000e+02, 6.20000e+02, 4.49000e+02, 1.02800e+03,\n",
       "        2.34000e+02, 9.22000e+02, 2.60000e+02, 5.33000e+02, 5.23000e+02,\n",
       "        2.91000e+02, 1.06000e+03, 2.66000e+02, 2.62000e+02, 2.02000e+02,\n",
       "        4.41000e+02, 6.70000e+01, 5.10000e+01, 3.51000e+02, 1.22800e+03]),\n",
       " array([ 0.,  1.,  2.,  3.,  4.,  5.,  6.,  7.,  8.,  9., 10., 11., 12.,\n",
       "        13., 14., 15., 16., 17., 18., 19., 20., 21., 22., 23., 24., 25.,\n",
       "        26., 27., 28., 29., 30., 31., 32., 33., 34., 35., 36., 37., 38.,\n",
       "        39., 40., 41., 42., 43., 44., 45.]),\n",
       " <BarContainer object of 45 artists>)"
      ]
     },
     "metadata": {},
     "execution_count": 5
    },
    {
     "output_type": "display_data",
     "data": {
      "text/plain": [
       "<Figure size 432x288 with 1 Axes>"
      ],
      "image/png": "[encoded data removed]"
     },
     "metadata": {
      "needs_background": "light"
     }
    }
   ],
   "metadata": {}
  },
  {
   "cell_type": "code",
   "execution_count": 6,
   "source": [
    "plt.bar(train_data.label.value_counts().sort_index().keys()[1:], train_data.label.value_counts().sort_index().values[1:]) # label 0 제외\r\n",
    "plt.show()"
   ],
   "outputs": [
    {
     "output_type": "display_data",
     "data": {
      "text/plain": [
       "<Figure size 432x288 with 1 Axes>"
      ],
      "image/png": "[encoded data removed]"
     },
     "metadata": {
      "needs_background": "light"
     }
    }
   ],
   "metadata": {}
  },
  {
   "cell_type": "markdown",
   "source": [
    "- imbalanced data."
   ],
   "metadata": {}
  },
  {
   "cell_type": "code",
   "execution_count": 7,
   "source": [
    "train_data.iloc[:3]"
   ],
   "outputs": [
    {
     "output_type": "execute_result",
     "data": {
      "text/plain": [
       "   index  제출년도               사업명 사업_부처명 계속과제여부                 내역사업명  \\\n",
       "0      0  2016          농업기초기반연구  농촌진흥청     신규              농산물안전성연구   \n",
       "1      1  2019  이공학학술연구기반구축(R&D)    교육부     신규  지역대학우수과학자지원사업(1년~5년)   \n",
       "2      2  2016        중소기업기술혁신개발  중소기업청     신규              혁신기업기술개발   \n",
       "\n",
       "                                                 과제명  \\\n",
       "0                       유전정보를 활용한 새로운 해충 분류군 동정기술 개발   \n",
       "1  대장암의 TRAIL 내성 표적 인자 발굴 및 TRAIL 반응 예측 유전자 지도 구축...   \n",
       "2  비목질계 셀룰로오스 식물자원을 활용한 기능성 부직포 및 고부가가치 뷰티케어 faci...   \n",
       "\n",
       "                                            요약문_연구목표  \\\n",
       "0                     ○ 새로운 해충분류군의 동정기술 개발 및 유입확산 추적   \n",
       "1  최종목표:  TRAIL 감수성 표적 유전자를 발굴하고 내성제어 기전을 연구. 발굴된...   \n",
       "2  * 식물계자원 정련 및 최적 신서란 파이버 기초연구 개발\\n\\n\\n* 소비자 및 바...   \n",
       "\n",
       "                                            요약문_연구내용  \\\n",
       "0  (가) 외래 및 돌발해충의 발생조사 및 종 동정\\n\\n\\n    ○ 대상해충 : 최...   \n",
       "1  1차년도\\n1) Microarray를 통한 선천적 TRAIL 내성 표적 후보 유전자...   \n",
       "2  * 식물계자원 정련 및 최적 신서란 파이버 기초연구 개발\\n\\n\\n- Tencel/...   \n",
       "\n",
       "                                            요약문_기대효과  \\\n",
       "0  ○ 새로운 돌발 및 외래해충의 신속, 정확한 동정법 향상\\n\\n\\n○ 돌발 및 외래...   \n",
       "1  1) TRAIL 내성 특이적 표적분자를 발굴하고, 이를 이용한 TRAIL 효과 증진...   \n",
       "2  * 국내 독자적인 비목질계 셀룰로오스 자원의 파이버 및 부직포 제조 등의 기술 확보...   \n",
       "\n",
       "                                      요약문_한글키워드  \\\n",
       "0              뉴클레오티드 염기서열, 분자마커, 종 동정, 침샘, 전사체   \n",
       "1                         대장암,항암제 내성,세포사멸,유전자발굴   \n",
       "2  기능성 샐룰로오스 파이버,천연섬유,기능성 부직포,뷰티&amp;케어 제품,미용 솜   \n",
       "\n",
       "                                           요약문_영문키워드  label  \n",
       "0  nucleotide sequence, molecular marker, species...     24  \n",
       "1  TRAIL,Colorectal cancer,TRAIL resistance,Apopt...      0  \n",
       "2  functional cellulose fiber,natural fiber,funct...      0  "
      ],
      "text/html": [
       "<div>\n",
       "<style scoped>\n",
       "    .dataframe tbody tr th:only-of-type {\n",
       "        vertical-align: middle;\n",
       "    }\n",
       "\n",
       "    .dataframe tbody tr th {\n",
       "        vertical-align: top;\n",
       "    }\n",
       "\n",
       "    .dataframe thead th {\n",
       "        text-align: right;\n",
       "    }\n",
       "</style>\n",
       "<table border=\"1\" class=\"dataframe\">\n",
       "  <thead>\n",
       "    <tr style=\"text-align: right;\">\n",
       "      <th></th>\n",
       "      <th>index</th>\n",
       "      <th>제출년도</th>\n",
       "      <th>사업명</th>\n",
       "      <th>사업_부처명</th>\n",
       "      <th>계속과제여부</th>\n",
       "      <th>내역사업명</th>\n",
       "      <th>과제명</th>\n",
       "      <th>요약문_연구목표</th>\n",
       "      <th>요약문_연구내용</th>\n",
       "      <th>요약문_기대효과</th>\n",
       "      <th>요약문_한글키워드</th>\n",
       "      <th>요약문_영문키워드</th>\n",
       "      <th>label</th>\n",
       "    </tr>\n",
       "  </thead>\n",
       "  <tbody>\n",
       "    <tr>\n",
       "      <th>0</th>\n",
       "      <td>0</td>\n",
       "      <td>2016</td>\n",
       "      <td>농업기초기반연구</td>\n",
       "      <td>농촌진흥청</td>\n",
       "      <td>신규</td>\n",
       "      <td>농산물안전성연구</td>\n",
       "      <td>유전정보를 활용한 새로운 해충 분류군 동정기술 개발</td>\n",
       "      <td>○ 새로운 해충분류군의 동정기술 개발 및 유입확산 추적</td>\n",
       "      <td>(가) 외래 및 돌발해충의 발생조사 및 종 동정\\n\\n\\n    ○ 대상해충 : 최...</td>\n",
       "      <td>○ 새로운 돌발 및 외래해충의 신속, 정확한 동정법 향상\\n\\n\\n○ 돌발 및 외래...</td>\n",
       "      <td>뉴클레오티드 염기서열, 분자마커, 종 동정, 침샘, 전사체</td>\n",
       "      <td>nucleotide sequence, molecular marker, species...</td>\n",
       "      <td>24</td>\n",
       "    </tr>\n",
       "    <tr>\n",
       "      <th>1</th>\n",
       "      <td>1</td>\n",
       "      <td>2019</td>\n",
       "      <td>이공학학술연구기반구축(R&amp;D)</td>\n",
       "      <td>교육부</td>\n",
       "      <td>신규</td>\n",
       "      <td>지역대학우수과학자지원사업(1년~5년)</td>\n",
       "      <td>대장암의 TRAIL 내성 표적 인자 발굴 및 TRAIL 반응 예측 유전자 지도 구축...</td>\n",
       "      <td>최종목표:  TRAIL 감수성 표적 유전자를 발굴하고 내성제어 기전을 연구. 발굴된...</td>\n",
       "      <td>1차년도\\n1) Microarray를 통한 선천적 TRAIL 내성 표적 후보 유전자...</td>\n",
       "      <td>1) TRAIL 내성 특이적 표적분자를 발굴하고, 이를 이용한 TRAIL 효과 증진...</td>\n",
       "      <td>대장암,항암제 내성,세포사멸,유전자발굴</td>\n",
       "      <td>TRAIL,Colorectal cancer,TRAIL resistance,Apopt...</td>\n",
       "      <td>0</td>\n",
       "    </tr>\n",
       "    <tr>\n",
       "      <th>2</th>\n",
       "      <td>2</td>\n",
       "      <td>2016</td>\n",
       "      <td>중소기업기술혁신개발</td>\n",
       "      <td>중소기업청</td>\n",
       "      <td>신규</td>\n",
       "      <td>혁신기업기술개발</td>\n",
       "      <td>비목질계 셀룰로오스 식물자원을 활용한 기능성 부직포 및 고부가가치 뷰티케어 faci...</td>\n",
       "      <td>* 식물계자원 정련 및 최적 신서란 파이버 기초연구 개발\\n\\n\\n* 소비자 및 바...</td>\n",
       "      <td>* 식물계자원 정련 및 최적 신서란 파이버 기초연구 개발\\n\\n\\n- Tencel/...</td>\n",
       "      <td>* 국내 독자적인 비목질계 셀룰로오스 자원의 파이버 및 부직포 제조 등의 기술 확보...</td>\n",
       "      <td>기능성 샐룰로오스 파이버,천연섬유,기능성 부직포,뷰티&amp;amp;케어 제품,미용 솜</td>\n",
       "      <td>functional cellulose fiber,natural fiber,funct...</td>\n",
       "      <td>0</td>\n",
       "    </tr>\n",
       "  </tbody>\n",
       "</table>\n",
       "</div>"
      ]
     },
     "metadata": {},
     "execution_count": 7
    }
   ],
   "metadata": {}
  },
  {
   "cell_type": "code",
   "execution_count": 8,
   "source": [
    "train_data.shape, test_data.shape"
   ],
   "outputs": [
    {
     "output_type": "execute_result",
     "data": {
      "text/plain": [
       "((174304, 13), (43576, 12))"
      ]
     },
     "metadata": {},
     "execution_count": 8
    }
   ],
   "metadata": {}
  },
  {
   "cell_type": "code",
   "execution_count": 9,
   "source": [
    "train_data.columns"
   ],
   "outputs": [
    {
     "output_type": "execute_result",
     "data": {
      "text/plain": [
       "Index(['index', '제출년도', '사업명', '사업_부처명', '계속과제여부', '내역사업명', '과제명', '요약문_연구목표',\n",
       "       '요약문_연구내용', '요약문_기대효과', '요약문_한글키워드', '요약문_영문키워드', 'label'],\n",
       "      dtype='object')"
      ]
     },
     "metadata": {},
     "execution_count": 9
    }
   ],
   "metadata": {}
  },
  {
   "cell_type": "code",
   "execution_count": 10,
   "source": [
    "test_data.columns   # label 없음."
   ],
   "outputs": [
    {
     "output_type": "execute_result",
     "data": {
      "text/plain": [
       "Index(['index', '제출년도', '사업명', '사업_부처명', '계속과제여부', '내역사업명', '과제명', '요약문_연구목표',\n",
       "       '요약문_연구내용', '요약문_기대효과', '요약문_한글키워드', '요약문_영문키워드'],\n",
       "      dtype='object')"
      ]
     },
     "metadata": {},
     "execution_count": 10
    }
   ],
   "metadata": {}
  },
  {
   "cell_type": "code",
   "execution_count": 11,
   "source": [
    "train_data.isna().sum()"
   ],
   "outputs": [
    {
     "output_type": "execute_result",
     "data": {
      "text/plain": [
       "index           0\n",
       "제출년도            0\n",
       "사업명             0\n",
       "사업_부처명          0\n",
       "계속과제여부          0\n",
       "내역사업명           0\n",
       "과제명             0\n",
       "요약문_연구목표     3002\n",
       "요약문_연구내용     3001\n",
       "요약문_기대효과     3051\n",
       "요약문_한글키워드    3028\n",
       "요약문_영문키워드    3087\n",
       "label           0\n",
       "dtype: int64"
      ]
     },
     "metadata": {},
     "execution_count": 11
    }
   ],
   "metadata": {}
  },
  {
   "cell_type": "code",
   "execution_count": 12,
   "source": [
    "test_data.isna().sum()"
   ],
   "outputs": [
    {
     "output_type": "execute_result",
     "data": {
      "text/plain": [
       "index          0\n",
       "제출년도           0\n",
       "사업명            0\n",
       "사업_부처명         0\n",
       "계속과제여부         0\n",
       "내역사업명          0\n",
       "과제명            0\n",
       "요약문_연구목표     755\n",
       "요약문_연구내용     755\n",
       "요약문_기대효과     761\n",
       "요약문_한글키워드    760\n",
       "요약문_영문키워드    772\n",
       "dtype: int64"
      ]
     },
     "metadata": {},
     "execution_count": 12
    }
   ],
   "metadata": {}
  },
  {
   "cell_type": "code",
   "execution_count": 13,
   "source": [
    "train_data[train_data['요약문_연구목표'].isna()]"
   ],
   "outputs": [
    {
     "output_type": "execute_result",
     "data": {
      "text/plain": [
       "         index  제출년도                             사업명     사업_부처명 계속과제여부  \\\n",
       "34          34  2019  과학기술연합대학원대학교연구운영비지원(R&D)(운영경비)  과학기술정보통신부     계속   \n",
       "108        108  2017             한국과학기술원연구운영비지원(0.5)  과학기술정보통신부     계속   \n",
       "205        205  2017                   지방대학육성사업(0.5)        교육부     계속   \n",
       "321        321  2019    국가과학기술연구회연구운영비지원(R&D)(주요사업비)  과학기술정보통신부     계속   \n",
       "328        328  2018                 국민안전증진기술개발(R&D)    산업통상자원부     계속   \n",
       "...        ...   ...                             ...        ...    ...   \n",
       "174139  174139  2016                  소재부품산업기술개발기반구축    산업통상자원부     계속   \n",
       "174173  174173  2017                      미래해양자원기술개발      해양수산부     계속   \n",
       "174174  174174  2017      포스트게놈신산업육성을위한다부처유전체사업(농림부)    농림축산식품부     계속   \n",
       "174230  174230  2018          한국과학기술원한국과학영재학교지원(R&D)  과학기술정보통신부     계속   \n",
       "174272  174272  2019             해외농업기술개발지원(R&D,ODA)      농촌진흥청     계속   \n",
       "\n",
       "                      내역사업명                               과제명 요약문_연구목표  \\\n",
       "34      과학기술연합대학원대학교연구운영비지원                  과학기술연합대학원대학교 운영비      NaN   \n",
       "108             글로벌교육연구선도사업                     미래형융합교육프로그램운영      NaN   \n",
       "205              지방대학 특성화사업       환경친화형 융복합 기계부품 창의 인재 양성 사업단      NaN   \n",
       "321             출연(연)지원육성사업                      출연(연) 지원육성사업      NaN   \n",
       "328         사회문제해결형 다부처공동사업  2017 사회문제해결형R&D 다부처 공동시범사업(평가관리)      NaN   \n",
       "...                     ...                               ...      ...   \n",
       "174139              기획평가관리비              소재부품산업기술개발기반구축 평가관리비      NaN   \n",
       "174173              기획평가관리비                미래해양자원기술개발 기획평가관리비      NaN   \n",
       "174174              기획평가관리비        포스트게놈다부처유전체사업(농림부) 기획평가관리비      NaN   \n",
       "174230    한국과학기술원한국과학영재학교지원              한국과학기술원 한국과학영재학교 운영비      NaN   \n",
       "174272           해외농업기술개발지원                  아시아농식품기술협력협의체 운영      NaN   \n",
       "\n",
       "       요약문_연구내용 요약문_기대효과 요약문_한글키워드 요약문_영문키워드  label  \n",
       "34          NaN      NaN       NaN       NaN      0  \n",
       "108         NaN      NaN       NaN       NaN      0  \n",
       "205         NaN      NaN       NaN       NaN      0  \n",
       "321         NaN      NaN       NaN       NaN      0  \n",
       "328         NaN      NaN       NaN       NaN      0  \n",
       "...         ...      ...       ...       ...    ...  \n",
       "174139      NaN      NaN       NaN       NaN      0  \n",
       "174173      NaN      NaN       NaN       NaN      0  \n",
       "174174      NaN      NaN       NaN       NaN      0  \n",
       "174230      NaN      NaN       NaN       NaN      0  \n",
       "174272      NaN      NaN       NaN       NaN      0  \n",
       "\n",
       "[3002 rows x 13 columns]"
      ],
      "text/html": [
       "<div>\n",
       "<style scoped>\n",
       "    .dataframe tbody tr th:only-of-type {\n",
       "        vertical-align: middle;\n",
       "    }\n",
       "\n",
       "    .dataframe tbody tr th {\n",
       "        vertical-align: top;\n",
       "    }\n",
       "\n",
       "    .dataframe thead th {\n",
       "        text-align: right;\n",
       "    }\n",
       "</style>\n",
       "<table border=\"1\" class=\"dataframe\">\n",
       "  <thead>\n",
       "    <tr style=\"text-align: right;\">\n",
       "      <th></th>\n",
       "      <th>index</th>\n",
       "      <th>제출년도</th>\n",
       "      <th>사업명</th>\n",
       "      <th>사업_부처명</th>\n",
       "      <th>계속과제여부</th>\n",
       "      <th>내역사업명</th>\n",
       "      <th>과제명</th>\n",
       "      <th>요약문_연구목표</th>\n",
       "      <th>요약문_연구내용</th>\n",
       "      <th>요약문_기대효과</th>\n",
       "      <th>요약문_한글키워드</th>\n",
       "      <th>요약문_영문키워드</th>\n",
       "      <th>label</th>\n",
       "    </tr>\n",
       "  </thead>\n",
       "  <tbody>\n",
       "    <tr>\n",
       "      <th>34</th>\n",
       "      <td>34</td>\n",
       "      <td>2019</td>\n",
       "      <td>과학기술연합대학원대학교연구운영비지원(R&amp;D)(운영경비)</td>\n",
       "      <td>과학기술정보통신부</td>\n",
       "      <td>계속</td>\n",
       "      <td>과학기술연합대학원대학교연구운영비지원</td>\n",
       "      <td>과학기술연합대학원대학교 운영비</td>\n",
       "      <td>NaN</td>\n",
       "      <td>NaN</td>\n",
       "      <td>NaN</td>\n",
       "      <td>NaN</td>\n",
       "      <td>NaN</td>\n",
       "      <td>0</td>\n",
       "    </tr>\n",
       "    <tr>\n",
       "      <th>108</th>\n",
       "      <td>108</td>\n",
       "      <td>2017</td>\n",
       "      <td>한국과학기술원연구운영비지원(0.5)</td>\n",
       "      <td>과학기술정보통신부</td>\n",
       "      <td>계속</td>\n",
       "      <td>글로벌교육연구선도사업</td>\n",
       "      <td>미래형융합교육프로그램운영</td>\n",
       "      <td>NaN</td>\n",
       "      <td>NaN</td>\n",
       "      <td>NaN</td>\n",
       "      <td>NaN</td>\n",
       "      <td>NaN</td>\n",
       "      <td>0</td>\n",
       "    </tr>\n",
       "    <tr>\n",
       "      <th>205</th>\n",
       "      <td>205</td>\n",
       "      <td>2017</td>\n",
       "      <td>지방대학육성사업(0.5)</td>\n",
       "      <td>교육부</td>\n",
       "      <td>계속</td>\n",
       "      <td>지방대학 특성화사업</td>\n",
       "      <td>환경친화형 융복합 기계부품 창의 인재 양성 사업단</td>\n",
       "      <td>NaN</td>\n",
       "      <td>NaN</td>\n",
       "      <td>NaN</td>\n",
       "      <td>NaN</td>\n",
       "      <td>NaN</td>\n",
       "      <td>0</td>\n",
       "    </tr>\n",
       "    <tr>\n",
       "      <th>321</th>\n",
       "      <td>321</td>\n",
       "      <td>2019</td>\n",
       "      <td>국가과학기술연구회연구운영비지원(R&amp;D)(주요사업비)</td>\n",
       "      <td>과학기술정보통신부</td>\n",
       "      <td>계속</td>\n",
       "      <td>출연(연)지원육성사업</td>\n",
       "      <td>출연(연) 지원육성사업</td>\n",
       "      <td>NaN</td>\n",
       "      <td>NaN</td>\n",
       "      <td>NaN</td>\n",
       "      <td>NaN</td>\n",
       "      <td>NaN</td>\n",
       "      <td>0</td>\n",
       "    </tr>\n",
       "    <tr>\n",
       "      <th>328</th>\n",
       "      <td>328</td>\n",
       "      <td>2018</td>\n",
       "      <td>국민안전증진기술개발(R&amp;D)</td>\n",
       "      <td>산업통상자원부</td>\n",
       "      <td>계속</td>\n",
       "      <td>사회문제해결형 다부처공동사업</td>\n",
       "      <td>2017 사회문제해결형R&amp;D 다부처 공동시범사업(평가관리)</td>\n",
       "      <td>NaN</td>\n",
       "      <td>NaN</td>\n",
       "      <td>NaN</td>\n",
       "      <td>NaN</td>\n",
       "      <td>NaN</td>\n",
       "      <td>0</td>\n",
       "    </tr>\n",
       "    <tr>\n",
       "      <th>...</th>\n",
       "      <td>...</td>\n",
       "      <td>...</td>\n",
       "      <td>...</td>\n",
       "      <td>...</td>\n",
       "      <td>...</td>\n",
       "      <td>...</td>\n",
       "      <td>...</td>\n",
       "      <td>...</td>\n",
       "      <td>...</td>\n",
       "      <td>...</td>\n",
       "      <td>...</td>\n",
       "      <td>...</td>\n",
       "      <td>...</td>\n",
       "    </tr>\n",
       "    <tr>\n",
       "      <th>174139</th>\n",
       "      <td>174139</td>\n",
       "      <td>2016</td>\n",
       "      <td>소재부품산업기술개발기반구축</td>\n",
       "      <td>산업통상자원부</td>\n",
       "      <td>계속</td>\n",
       "      <td>기획평가관리비</td>\n",
       "      <td>소재부품산업기술개발기반구축 평가관리비</td>\n",
       "      <td>NaN</td>\n",
       "      <td>NaN</td>\n",
       "      <td>NaN</td>\n",
       "      <td>NaN</td>\n",
       "      <td>NaN</td>\n",
       "      <td>0</td>\n",
       "    </tr>\n",
       "    <tr>\n",
       "      <th>174173</th>\n",
       "      <td>174173</td>\n",
       "      <td>2017</td>\n",
       "      <td>미래해양자원기술개발</td>\n",
       "      <td>해양수산부</td>\n",
       "      <td>계속</td>\n",
       "      <td>기획평가관리비</td>\n",
       "      <td>미래해양자원기술개발 기획평가관리비</td>\n",
       "      <td>NaN</td>\n",
       "      <td>NaN</td>\n",
       "      <td>NaN</td>\n",
       "      <td>NaN</td>\n",
       "      <td>NaN</td>\n",
       "      <td>0</td>\n",
       "    </tr>\n",
       "    <tr>\n",
       "      <th>174174</th>\n",
       "      <td>174174</td>\n",
       "      <td>2017</td>\n",
       "      <td>포스트게놈신산업육성을위한다부처유전체사업(농림부)</td>\n",
       "      <td>농림축산식품부</td>\n",
       "      <td>계속</td>\n",
       "      <td>기획평가관리비</td>\n",
       "      <td>포스트게놈다부처유전체사업(농림부) 기획평가관리비</td>\n",
       "      <td>NaN</td>\n",
       "      <td>NaN</td>\n",
       "      <td>NaN</td>\n",
       "      <td>NaN</td>\n",
       "      <td>NaN</td>\n",
       "      <td>0</td>\n",
       "    </tr>\n",
       "    <tr>\n",
       "      <th>174230</th>\n",
       "      <td>174230</td>\n",
       "      <td>2018</td>\n",
       "      <td>한국과학기술원한국과학영재학교지원(R&amp;D)</td>\n",
       "      <td>과학기술정보통신부</td>\n",
       "      <td>계속</td>\n",
       "      <td>한국과학기술원한국과학영재학교지원</td>\n",
       "      <td>한국과학기술원 한국과학영재학교 운영비</td>\n",
       "      <td>NaN</td>\n",
       "      <td>NaN</td>\n",
       "      <td>NaN</td>\n",
       "      <td>NaN</td>\n",
       "      <td>NaN</td>\n",
       "      <td>0</td>\n",
       "    </tr>\n",
       "    <tr>\n",
       "      <th>174272</th>\n",
       "      <td>174272</td>\n",
       "      <td>2019</td>\n",
       "      <td>해외농업기술개발지원(R&amp;D,ODA)</td>\n",
       "      <td>농촌진흥청</td>\n",
       "      <td>계속</td>\n",
       "      <td>해외농업기술개발지원</td>\n",
       "      <td>아시아농식품기술협력협의체 운영</td>\n",
       "      <td>NaN</td>\n",
       "      <td>NaN</td>\n",
       "      <td>NaN</td>\n",
       "      <td>NaN</td>\n",
       "      <td>NaN</td>\n",
       "      <td>0</td>\n",
       "    </tr>\n",
       "  </tbody>\n",
       "</table>\n",
       "<p>3002 rows × 13 columns</p>\n",
       "</div>"
      ]
     },
     "metadata": {},
     "execution_count": 13
    }
   ],
   "metadata": {}
  },
  {
   "cell_type": "markdown",
   "source": [
    "베이스라인 코드 참고해서, Nan -> 'NAN'"
   ],
   "metadata": {}
  },
  {
   "cell_type": "code",
   "execution_count": 14,
   "source": [
    "train_data.fillna('NAN', inplace=True)\n",
    "test_data.fillna('NAN', inplace=True)"
   ],
   "outputs": [],
   "metadata": {}
  },
  {
   "cell_type": "code",
   "execution_count": 15,
   "source": [
    "train_data.isna().sum()"
   ],
   "outputs": [
    {
     "output_type": "execute_result",
     "data": {
      "text/plain": [
       "index        0\n",
       "제출년도         0\n",
       "사업명          0\n",
       "사업_부처명       0\n",
       "계속과제여부       0\n",
       "내역사업명        0\n",
       "과제명          0\n",
       "요약문_연구목표     0\n",
       "요약문_연구내용     0\n",
       "요약문_기대효과     0\n",
       "요약문_한글키워드    0\n",
       "요약문_영문키워드    0\n",
       "label        0\n",
       "dtype: int64"
      ]
     },
     "metadata": {},
     "execution_count": 15
    }
   ],
   "metadata": {}
  },
  {
   "cell_type": "code",
   "execution_count": 16,
   "source": [
    "train_data.iloc[34:35]"
   ],
   "outputs": [
    {
     "output_type": "execute_result",
     "data": {
      "text/plain": [
       "    index  제출년도                             사업명     사업_부처명 계속과제여부  \\\n",
       "34     34  2019  과학기술연합대학원대학교연구운영비지원(R&D)(운영경비)  과학기술정보통신부     계속   \n",
       "\n",
       "                  내역사업명               과제명 요약문_연구목표 요약문_연구내용 요약문_기대효과  \\\n",
       "34  과학기술연합대학원대학교연구운영비지원  과학기술연합대학원대학교 운영비      NAN      NAN      NAN   \n",
       "\n",
       "   요약문_한글키워드 요약문_영문키워드  label  \n",
       "34       NAN       NAN      0  "
      ],
      "text/html": [
       "<div>\n",
       "<style scoped>\n",
       "    .dataframe tbody tr th:only-of-type {\n",
       "        vertical-align: middle;\n",
       "    }\n",
       "\n",
       "    .dataframe tbody tr th {\n",
       "        vertical-align: top;\n",
       "    }\n",
       "\n",
       "    .dataframe thead th {\n",
       "        text-align: right;\n",
       "    }\n",
       "</style>\n",
       "<table border=\"1\" class=\"dataframe\">\n",
       "  <thead>\n",
       "    <tr style=\"text-align: right;\">\n",
       "      <th></th>\n",
       "      <th>index</th>\n",
       "      <th>제출년도</th>\n",
       "      <th>사업명</th>\n",
       "      <th>사업_부처명</th>\n",
       "      <th>계속과제여부</th>\n",
       "      <th>내역사업명</th>\n",
       "      <th>과제명</th>\n",
       "      <th>요약문_연구목표</th>\n",
       "      <th>요약문_연구내용</th>\n",
       "      <th>요약문_기대효과</th>\n",
       "      <th>요약문_한글키워드</th>\n",
       "      <th>요약문_영문키워드</th>\n",
       "      <th>label</th>\n",
       "    </tr>\n",
       "  </thead>\n",
       "  <tbody>\n",
       "    <tr>\n",
       "      <th>34</th>\n",
       "      <td>34</td>\n",
       "      <td>2019</td>\n",
       "      <td>과학기술연합대학원대학교연구운영비지원(R&amp;D)(운영경비)</td>\n",
       "      <td>과학기술정보통신부</td>\n",
       "      <td>계속</td>\n",
       "      <td>과학기술연합대학원대학교연구운영비지원</td>\n",
       "      <td>과학기술연합대학원대학교 운영비</td>\n",
       "      <td>NAN</td>\n",
       "      <td>NAN</td>\n",
       "      <td>NAN</td>\n",
       "      <td>NAN</td>\n",
       "      <td>NAN</td>\n",
       "      <td>0</td>\n",
       "    </tr>\n",
       "  </tbody>\n",
       "</table>\n",
       "</div>"
      ]
     },
     "metadata": {},
     "execution_count": 16
    }
   ],
   "metadata": {}
  },
  {
   "cell_type": "markdown",
   "source": [
    "NaN 값을 string 'NAN'으로 변경된 것을 알 수 있음"
   ],
   "metadata": {}
  },
  {
   "cell_type": "markdown",
   "source": [
    "# '요약문_연구목표', '요약문_연구내용', '요약문_기대효과' 는 regular_expression으로 전처리"
   ],
   "metadata": {}
  },
  {
   "cell_type": "code",
   "execution_count": 17,
   "source": [
    "import re"
   ],
   "outputs": [],
   "metadata": {}
  },
  {
   "cell_type": "code",
   "execution_count": 150,
   "source": [
    "def reg_expression(text):\n",
    "    text = re.sub(\"[^가-힣ㄱ-ㅣa-zA-Z\\,-\\.] \",\"\", text)\n",
    "    text = re.sub(\"\\n\", \" \", text)\n",
    "    text = re.sub(\"[1-9]+\\)\",\"\", text)\n",
    "    text = re.sub('[\\(\\[]', ' ', text)\n",
    "    text = re.sub('[\\)\\]\\-<>①②③④⑤⑥⑦⑧⑨⑩⑪⑫⑬⑭⑮@$&#☆◇★○●◎◇◆□■△▲▽▼→←←↑↓↔〓◁◀▷▶♤♠♡♥♧♣⊙◈▣◐◑▒▤▥▨▧▦▩♨☏☎☜☞¶†‡↕↗↙↖↘]', '', text)\n",
    "    text = re.sub(\" {2,}\", \" \", text)\n",
    "    if text[0] == ' ':\n",
    "        text = text[1:]\n",
    "    return text"
   ],
   "outputs": [],
   "metadata": {}
  },
  {
   "cell_type": "code",
   "execution_count": 274,
   "source": [
    "re_train_data = pd.DataFrame(train_data)\n",
    "re_test_data = pd.DataFrame(test_data)"
   ],
   "outputs": [],
   "metadata": {}
  },
  {
   "cell_type": "code",
   "execution_count": 276,
   "source": [
    "re_train_data.iloc[:,7] = tqdm(re_train_data.iloc[:,7].apply(reg_expression)) # 요약문_연구목표\n",
    "re_train_data.iloc[:,8] = tqdm(re_train_data.iloc[:,8].apply(reg_expression)) # 요약문_연구내용\n",
    "re_train_data.iloc[:,9] = tqdm(re_train_data.iloc[:,9].apply(reg_expression)) # 요약문_기대효과\n",
    "#re_train_data = train_data.apply(lambda x : reg_expression(train_data.iloc[:,7], train_data.iloc[:,8], train_data.iloc[:,9]), axis=1)"
   ],
   "outputs": [
    {
     "output_type": "display_data",
     "data": {
      "text/plain": [
       "  0%|          | 0/174304 [00:00<?, ?it/s]"
      ],
      "application/vnd.jupyter.widget-view+json": {
       "version_major": 2,
       "version_minor": 0,
       "model_id": "4352d4cb9db14b76a791f43ea8e298c6"
      }
     },
     "metadata": {}
    },
    {
     "output_type": "display_data",
     "data": {
      "text/plain": [
       "  0%|          | 0/174304 [00:00<?, ?it/s]"
      ],
      "application/vnd.jupyter.widget-view+json": {
       "version_major": 2,
       "version_minor": 0,
       "model_id": "20ac5f6a005a47a6b530b5c206cfa6ea"
      }
     },
     "metadata": {}
    },
    {
     "output_type": "display_data",
     "data": {
      "text/plain": [
       "  0%|          | 0/174304 [00:00<?, ?it/s]"
      ],
      "application/vnd.jupyter.widget-view+json": {
       "version_major": 2,
       "version_minor": 0,
       "model_id": "408244b4c6d646f4b7d967ab09e710cf"
      }
     },
     "metadata": {}
    }
   ],
   "metadata": {}
  },
  {
   "cell_type": "code",
   "execution_count": 283,
   "source": [
    "re_test_data.iloc[:,7] = tqdm(re_test_data.iloc[:,7].apply(reg_expression)) # 요약문_연구목표\n",
    "re_test_data.iloc[:,8] = tqdm(re_test_data.iloc[:,8].apply(reg_expression)) # 요약문_연구내용\n",
    "re_test_data.iloc[:,9] = tqdm(re_test_data.iloc[:,9].apply(reg_expression)) # 요약문_기대효과"
   ],
   "outputs": [
    {
     "output_type": "display_data",
     "data": {
      "text/plain": [
       "  0%|          | 0/43576 [00:00<?, ?it/s]"
      ],
      "application/vnd.jupyter.widget-view+json": {
       "version_major": 2,
       "version_minor": 0,
       "model_id": "56cb560111a74ad796daafa940fb8e6a"
      }
     },
     "metadata": {}
    },
    {
     "output_type": "display_data",
     "data": {
      "text/plain": [
       "  0%|          | 0/43576 [00:00<?, ?it/s]"
      ],
      "application/vnd.jupyter.widget-view+json": {
       "version_major": 2,
       "version_minor": 0,
       "model_id": "4156dc8d23e7434f9ed06245da749885"
      }
     },
     "metadata": {}
    },
    {
     "output_type": "display_data",
     "data": {
      "text/plain": [
       "  0%|          | 0/43576 [00:00<?, ?it/s]"
      ],
      "application/vnd.jupyter.widget-view+json": {
       "version_major": 2,
       "version_minor": 0,
       "model_id": "749cbb805a34415e83befa1940b07dab"
      }
     },
     "metadata": {}
    }
   ],
   "metadata": {}
  },
  {
   "cell_type": "markdown",
   "source": [
    "# '요약문_한글키워드', '요약문_영문키워드' string의 comma 처리. 'A,B,C,D' or 'A, B, C, D' => ['A', 'B', 'C', 'D']"
   ],
   "metadata": {}
  },
  {
   "cell_type": "code",
   "execution_count": 278,
   "source": [
    "for i, keyword_kor in tqdm(enumerate(re_train_data.loc[:,'요약문_한글키워드'])):\n",
    "    if (', ') in (keyword_kor):\n",
    "        re_train_data['요약문_한글키워드'][i] = keyword_kor.split(\", \")\n",
    "    else:\n",
    "        re_train_data['요약문_한글키워드'][i] = keyword_kor.split(\",\")\n",
    "     \n",
    "for i, keyword_eng in tqdm(enumerate(re_train_data.loc[:,'요약문_영문키워드'])):\n",
    "    if (', ') in (keyword_eng):\n",
    "        re_train_data['요약문_영문키워드'][i] = keyword_eng.split(\", \")\n",
    "    else:\n",
    "        re_train_data['요약문_영문키워드'][i] = keyword_eng.split(\",\")"
   ],
   "outputs": [
    {
     "output_type": "display_data",
     "data": {
      "text/plain": [
       "0it [00:00, ?it/s]"
      ],
      "application/vnd.jupyter.widget-view+json": {
       "version_major": 2,
       "version_minor": 0,
       "model_id": "eb86809f91ee4b63aa02742a6ccc5730"
      }
     },
     "metadata": {}
    },
    {
     "output_type": "stream",
     "name": "stderr",
     "text": [
      "/tmp/ipykernel_18643/478621286.py:3: SettingWithCopyWarning: \n",
      "A value is trying to be set on a copy of a slice from a DataFrame\n",
      "\n",
      "See the caveats in the documentation: https://pandas.pydata.org/pandas-docs/stable/user_guide/indexing.html#returning-a-view-versus-a-copy\n",
      "  re_train_data['요약문_한글키워드'][i] = keyword_kor.split(\", \")\n",
      "/tmp/ipykernel_18643/478621286.py:5: SettingWithCopyWarning: \n",
      "A value is trying to be set on a copy of a slice from a DataFrame\n",
      "\n",
      "See the caveats in the documentation: https://pandas.pydata.org/pandas-docs/stable/user_guide/indexing.html#returning-a-view-versus-a-copy\n",
      "  re_train_data['요약문_한글키워드'][i] = keyword_kor.split(\",\")\n"
     ]
    },
    {
     "output_type": "display_data",
     "data": {
      "text/plain": [
       "0it [00:00, ?it/s]"
      ],
      "application/vnd.jupyter.widget-view+json": {
       "version_major": 2,
       "version_minor": 0,
       "model_id": "bac923710e0a4abf8b3015314c7ae1ce"
      }
     },
     "metadata": {}
    },
    {
     "output_type": "stream",
     "name": "stderr",
     "text": [
      "/tmp/ipykernel_18643/478621286.py:9: SettingWithCopyWarning: \n",
      "A value is trying to be set on a copy of a slice from a DataFrame\n",
      "\n",
      "See the caveats in the documentation: https://pandas.pydata.org/pandas-docs/stable/user_guide/indexing.html#returning-a-view-versus-a-copy\n",
      "  re_train_data['요약문_영문키워드'][i] = keyword_eng.split(\", \")\n",
      "/tmp/ipykernel_18643/478621286.py:11: SettingWithCopyWarning: \n",
      "A value is trying to be set on a copy of a slice from a DataFrame\n",
      "\n",
      "See the caveats in the documentation: https://pandas.pydata.org/pandas-docs/stable/user_guide/indexing.html#returning-a-view-versus-a-copy\n",
      "  re_train_data['요약문_영문키워드'][i] = keyword_eng.split(\",\")\n"
     ]
    }
   ],
   "metadata": {}
  },
  {
   "cell_type": "code",
   "execution_count": 284,
   "source": [
    "for i, keyword_kor in tqdm(enumerate(re_test_data.loc[:,'요약문_한글키워드'])):\n",
    "    if (', ') in (keyword_kor):\n",
    "        re_test_data['요약문_한글키워드'][i] = keyword_kor.split(\", \")\n",
    "    else:\n",
    "        re_test_data['요약문_한글키워드'][i] = keyword_kor.split(\",\")\n",
    "     \n",
    "for i, keyword_eng in tqdm(enumerate(re_test_data.loc[:,'요약문_영문키워드'])):\n",
    "    if (', ') in (keyword_eng):\n",
    "        re_test_data['요약문_영문키워드'][i] = keyword_eng.split(\", \")\n",
    "    else:\n",
    "        re_test_data['요약문_영문키워드'][i] = keyword_eng.split(\",\")"
   ],
   "outputs": [
    {
     "output_type": "display_data",
     "data": {
      "text/plain": [
       "0it [00:00, ?it/s]"
      ],
      "application/vnd.jupyter.widget-view+json": {
       "version_major": 2,
       "version_minor": 0,
       "model_id": "9ef29e959a81466fadccd266d8cd3908"
      }
     },
     "metadata": {}
    },
    {
     "output_type": "stream",
     "name": "stderr",
     "text": [
      "/tmp/ipykernel_18643/3474306159.py:3: SettingWithCopyWarning: \n",
      "A value is trying to be set on a copy of a slice from a DataFrame\n",
      "\n",
      "See the caveats in the documentation: https://pandas.pydata.org/pandas-docs/stable/user_guide/indexing.html#returning-a-view-versus-a-copy\n",
      "  re_test_data['요약문_한글키워드'][i] = keyword_kor.split(\", \")\n",
      "/tmp/ipykernel_18643/3474306159.py:5: SettingWithCopyWarning: \n",
      "A value is trying to be set on a copy of a slice from a DataFrame\n",
      "\n",
      "See the caveats in the documentation: https://pandas.pydata.org/pandas-docs/stable/user_guide/indexing.html#returning-a-view-versus-a-copy\n",
      "  re_test_data['요약문_한글키워드'][i] = keyword_kor.split(\",\")\n"
     ]
    },
    {
     "output_type": "display_data",
     "data": {
      "text/plain": [
       "0it [00:00, ?it/s]"
      ],
      "application/vnd.jupyter.widget-view+json": {
       "version_major": 2,
       "version_minor": 0,
       "model_id": "6761a306f9ec4fa59f09fb1bb7bbe399"
      }
     },
     "metadata": {}
    },
    {
     "output_type": "stream",
     "name": "stderr",
     "text": [
      "/tmp/ipykernel_18643/3474306159.py:9: SettingWithCopyWarning: \n",
      "A value is trying to be set on a copy of a slice from a DataFrame\n",
      "\n",
      "See the caveats in the documentation: https://pandas.pydata.org/pandas-docs/stable/user_guide/indexing.html#returning-a-view-versus-a-copy\n",
      "  re_test_data['요약문_영문키워드'][i] = keyword_eng.split(\", \")\n",
      "/tmp/ipykernel_18643/3474306159.py:11: SettingWithCopyWarning: \n",
      "A value is trying to be set on a copy of a slice from a DataFrame\n",
      "\n",
      "See the caveats in the documentation: https://pandas.pydata.org/pandas-docs/stable/user_guide/indexing.html#returning-a-view-versus-a-copy\n",
      "  re_test_data['요약문_영문키워드'][i] = keyword_eng.split(\",\")\n"
     ]
    }
   ],
   "metadata": {}
  },
  {
   "cell_type": "code",
   "execution_count": 1,
   "source": [
    "re_train_data.to_csv(\"./data/re_train_data.csv\", index=False)\n",
    "re_test_data.to_csv(\"./data/re_test_data.csv\", index=False)"
   ],
   "outputs": [
    {
     "output_type": "error",
     "ename": "NameError",
     "evalue": "name 're_train_data' is not defined",
     "traceback": [
      "\u001b[0;31m---------------------------------------------------------------------------\u001b[0m",
      "\u001b[0;31mNameError\u001b[0m                                 Traceback (most recent call last)",
      "\u001b[0;32m/tmp/ipykernel_18683/273024586.py\u001b[0m in \u001b[0;36m<module>\u001b[0;34m\u001b[0m\n\u001b[0;32m----> 1\u001b[0;31m \u001b[0mre_train_data\u001b[0m\u001b[0;34m.\u001b[0m\u001b[0mto_csv\u001b[0m\u001b[0;34m(\u001b[0m\u001b[0;34m\"./data/re_train_data.csv\"\u001b[0m\u001b[0;34m,\u001b[0m \u001b[0mindex\u001b[0m\u001b[0;34m=\u001b[0m\u001b[0;32mFalse\u001b[0m\u001b[0;34m)\u001b[0m\u001b[0;34m\u001b[0m\u001b[0;34m\u001b[0m\u001b[0m\n\u001b[0m\u001b[1;32m      2\u001b[0m \u001b[0mre_test_data\u001b[0m\u001b[0;34m.\u001b[0m\u001b[0mto_csv\u001b[0m\u001b[0;34m(\u001b[0m\u001b[0;34m\"./data/re_test_data.csv\"\u001b[0m\u001b[0;34m,\u001b[0m \u001b[0mindex\u001b[0m\u001b[0;34m=\u001b[0m\u001b[0;32mFalse\u001b[0m\u001b[0;34m)\u001b[0m\u001b[0;34m\u001b[0m\u001b[0;34m\u001b[0m\u001b[0m\n",
      "\u001b[0;31mNameError\u001b[0m: name 're_train_data' is not defined"
     ]
    }
   ],
   "metadata": {}
  }
 ],
 "metadata": {
  "orig_nbformat": 4,
  "kernelspec": {
   "name": "fakenews",
   "display_name": "fakenews",
   "language": "python"
  },
  "interpreter": {
   "hash": "2edddfc9d5bed511733511e71708c2823425ae529162a5f8877df66aaf5564aa"
  }
 },
 "nbformat": 4,
 "nbformat_minor": 2
}